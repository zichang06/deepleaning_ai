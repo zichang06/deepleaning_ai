{
 "cells": [
  {
   "cell_type": "code",
   "execution_count": 5,
   "metadata": {},
   "outputs": [
    {
     "name": "stdout",
     "output_type": "stream",
     "text": [
      "[[3]\n",
      " [7]]\n",
      "[3 7]\n"
     ]
    }
   ],
   "source": [
    "import numpy as np\n",
    "a = np.array([[1,2],[3,4]])\n",
    "\n",
    "# 按行相加，并且保持其二维特性\n",
    "print(np.sum(a, axis=1, keepdims=True))\n",
    "\n",
    "# 按行相加，不保持其二维特性\n",
    "print(np.sum(a, axis=1))\n",
    "#————————————————————————————\n",
    "# 按行相加，并且保持其二维特性\n",
    "print(np.sum(a, axis=1, keepdims=True))\n",
    "\n",
    "# 按行相加，不保持其二维特性\n",
    "print(np.sum(a, axis=1))"
   ]
  },
  {
   "cell_type": "code",
   "execution_count": 3,
   "metadata": {},
   "outputs": [
    {
     "name": "stdout",
     "output_type": "stream",
     "text": [
      "(2, 1)\n",
      "(2,)\n",
      "<class 'numpy.ndarray'>\n",
      "<class 'tuple'>\n"
     ]
    }
   ],
   "source": [
    "# 按行相加，并且保持其二维特性\n",
    "print(np.sum(a, axis=1, keepdims=True).shape)\n",
    "\n",
    "# 按行相加，不保持其二维特性\n",
    "print(np.sum(a, axis=1).shape)\n",
    "\n",
    "# 按行相加，并且保持其二维特性\n",
    "print(type(np.sum(a, axis=1, keepdims=True)))\n",
    "\n",
    "# 按行相加，不保持其二维特性\n",
    "print(type(np.sum(a, axis=1).shape))"
   ]
  },
  {
   "cell_type": "code",
   "execution_count": null,
   "metadata": {},
   "outputs": [],
   "source": []
  }
 ],
 "metadata": {
  "kernelspec": {
   "display_name": "Python 3",
   "language": "python",
   "name": "python3"
  },
  "language_info": {
   "codemirror_mode": {
    "name": "ipython",
    "version": 3
   },
   "file_extension": ".py",
   "mimetype": "text/x-python",
   "name": "python",
   "nbconvert_exporter": "python",
   "pygments_lexer": "ipython3",
   "version": "3.7.1"
  }
 },
 "nbformat": 4,
 "nbformat_minor": 2
}
